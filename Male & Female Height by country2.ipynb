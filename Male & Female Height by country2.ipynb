{
 "cells": [
  {
   "cell_type": "code",
   "execution_count": 26,
   "metadata": {
    "_cell_guid": "b1076dfc-b9ad-4769-8c92-a6c4dae69d19",
    "_uuid": "8f2839f25d086af736a60e9eeb907d3b93b6e0e5",
    "execution": {
     "iopub.execute_input": "2022-03-19T16:24:48.806942Z",
     "iopub.status.busy": "2022-03-19T16:24:48.806548Z",
     "iopub.status.idle": "2022-03-19T16:24:48.816307Z",
     "shell.execute_reply": "2022-03-19T16:24:48.815621Z",
     "shell.execute_reply.started": "2022-03-19T16:24:48.806901Z"
    }
   },
   "outputs": [],
   "source": [
    "# This Python 3 environment comes with many helpful analytics libraries installed\n",
    "# It is defined by the kaggle/python Docker image: https://github.com/kaggle/docker-python\n",
    "# For example, here's several helpful packages to load\n",
    "\n",
    "import numpy as np # linear algebra\n",
    "import pandas as pd # data processing, CSV file I/O (e.g. pd.read_csv)\n",
    "\n",
    "# Input data files are available in the read-only \"../input/\" directory\n",
    "# For example, running this (by clicking run or pressing Shift+Enter) will list all files under the input directory\n",
    "\n",
    "import os\n",
    "for dirname, _, filenames in os.walk('/kaggle/input'):\n",
    "    for filename in filenames:\n",
    "        print(os.path.join(dirname, filename))\n",
    "\n",
    "# You can write up to 20GB to the current directory (/kaggle/working/) that gets preserved as output when you create a version using \"Save & Run All\" \n",
    "# You can also write temporary files to /kaggle/temp/, but they won't be saved outside of the current session"
   ]
  },
  {
   "cell_type": "code",
   "execution_count": 27,
   "metadata": {
    "execution": {
     "iopub.execute_input": "2022-03-19T16:24:48.818465Z",
     "iopub.status.busy": "2022-03-19T16:24:48.818181Z",
     "iopub.status.idle": "2022-03-19T16:24:48.828080Z",
     "shell.execute_reply": "2022-03-19T16:24:48.827193Z",
     "shell.execute_reply.started": "2022-03-19T16:24:48.818432Z"
    }
   },
   "outputs": [],
   "source": [
    "import matplotlib.pyplot as plt\n",
    "import seaborn as sns"
   ]
  },
  {
   "cell_type": "code",
   "execution_count": 28,
   "metadata": {
    "execution": {
     "iopub.execute_input": "2022-03-19T16:24:48.830271Z",
     "iopub.status.busy": "2022-03-19T16:24:48.829741Z",
     "iopub.status.idle": "2022-03-19T16:24:48.845792Z",
     "shell.execute_reply": "2022-03-19T16:24:48.844500Z",
     "shell.execute_reply.started": "2022-03-19T16:24:48.830223Z"
    }
   },
   "outputs": [],
   "source": [
    "df = pd.read_csv('../input/height-of-male-and-female-by-country-2022/Height of Male and Female by Country 2022.csv')\n"
   ]
  },
  {
   "cell_type": "code",
   "execution_count": 29,
   "metadata": {
    "execution": {
     "iopub.execute_input": "2022-03-19T16:24:48.847629Z",
     "iopub.status.busy": "2022-03-19T16:24:48.847219Z",
     "iopub.status.idle": "2022-03-19T16:24:48.869194Z",
     "shell.execute_reply": "2022-03-19T16:24:48.868105Z",
     "shell.execute_reply.started": "2022-03-19T16:24:48.847531Z"
    }
   },
   "outputs": [],
   "source": [
    "df.head()"
   ]
  },
  {
   "cell_type": "code",
   "execution_count": 30,
   "metadata": {
    "execution": {
     "iopub.execute_input": "2022-03-19T16:24:48.871904Z",
     "iopub.status.busy": "2022-03-19T16:24:48.871625Z",
     "iopub.status.idle": "2022-03-19T16:24:48.889153Z",
     "shell.execute_reply": "2022-03-19T16:24:48.888425Z",
     "shell.execute_reply.started": "2022-03-19T16:24:48.871871Z"
    }
   },
   "outputs": [],
   "source": [
    "new_df = df.drop(['Male Height in Ft', 'Female Height in Ft'], axis=1)\n",
    "new_df.tail(10)\n",
    "# type(new_df)"
   ]
  },
  {
   "cell_type": "code",
   "execution_count": 31,
   "metadata": {
    "execution": {
     "iopub.execute_input": "2022-03-19T16:24:48.891469Z",
     "iopub.status.busy": "2022-03-19T16:24:48.891192Z",
     "iopub.status.idle": "2022-03-19T16:24:48.911318Z",
     "shell.execute_reply": "2022-03-19T16:24:48.909880Z",
     "shell.execute_reply.started": "2022-03-19T16:24:48.891435Z"
    }
   },
   "outputs": [],
   "source": [
    "top_10_tallest_country_male = new_df.sort_values('Male Height in Cm',ascending=False)\n",
    "top_10_tallest_country_male.drop('Female Height in Cm',axis=1).head()"
   ]
  },
  {
   "cell_type": "code",
   "execution_count": 59,
   "metadata": {
    "execution": {
     "iopub.execute_input": "2022-03-19T16:51:16.893579Z",
     "iopub.status.busy": "2022-03-19T16:51:16.892752Z",
     "iopub.status.idle": "2022-03-19T16:51:17.137976Z",
     "shell.execute_reply": "2022-03-19T16:51:17.137053Z",
     "shell.execute_reply.started": "2022-03-19T16:51:16.893510Z"
    }
   },
   "outputs": [],
   "source": [
    "color_red = '#fd625e'\n",
    "color_blue = '#01b8aa'\n",
    "plt.figure(figsize=(10,5))\n",
    "plt.bar(data=top_10_tallest_country_male.head(10), x='Country Name', \n",
    "        height='Male Height in Cm', width=0.8, color=color_red)\n",
    "plt.xticks(rotation=45)\n",
    "plt.ylim(ymin=175,ymax=184)\n",
    "plt.ylabel('Male Height in Cm')\n",
    "plt.xlabel('Top 10 tallest Countries')\n",
    "plt.show()"
   ]
  },
  {
   "cell_type": "code",
   "execution_count": 57,
   "metadata": {
    "execution": {
     "iopub.execute_input": "2022-03-19T16:49:45.831512Z",
     "iopub.status.busy": "2022-03-19T16:49:45.831156Z",
     "iopub.status.idle": "2022-03-19T16:49:46.084730Z",
     "shell.execute_reply": "2022-03-19T16:49:46.083741Z",
     "shell.execute_reply.started": "2022-03-19T16:49:45.831471Z"
    }
   },
   "outputs": [],
   "source": [
    "## Countries with tallest Female\n",
    "\n",
    "top10_tallest_female = new_df.sort_values('Female Height in Cm',ascending=False)\n",
    "top10_tallest_female.drop('Male Height in Cm',axis=1).head(3)\n",
    "plt.figure(figsize=(10,6))\n",
    "plt.bar(data=top10_tallest_female.head(10),x='Country Name',height='Female Height in Cm',width=0.8,color=color_red)\n",
    "plt.xticks(rotation=45)\n",
    "plt.xlabel('Female Height in Cm')\n",
    "plt.ylim(ymin=165,ymax=180)\n",
    "plt.ylabel('Country')\n",
    "plt.show()"
   ]
  },
  {
   "cell_type": "code",
   "execution_count": 51,
   "metadata": {
    "execution": {
     "iopub.execute_input": "2022-03-19T16:44:16.223047Z",
     "iopub.status.busy": "2022-03-19T16:44:16.222665Z",
     "iopub.status.idle": "2022-03-19T16:44:16.239829Z",
     "shell.execute_reply": "2022-03-19T16:44:16.239062Z",
     "shell.execute_reply.started": "2022-03-19T16:44:16.223000Z"
    }
   },
   "outputs": [],
   "source": [
    "countries_with_shortest_Male = new_df.tail(10)\n",
    "countries_with_shortest_Male.sort_values('Male Height in Cm',ascending=True,inplace=True)\n",
    "countries_with_shortest_Male.drop('Female Height in Cm',axis=1)"
   ]
  },
  {
   "cell_type": "code",
   "execution_count": 55,
   "metadata": {
    "execution": {
     "iopub.execute_input": "2022-03-19T16:48:44.153659Z",
     "iopub.status.busy": "2022-03-19T16:48:44.153292Z",
     "iopub.status.idle": "2022-03-19T16:48:44.406762Z",
     "shell.execute_reply": "2022-03-19T16:48:44.406014Z",
     "shell.execute_reply.started": "2022-03-19T16:48:44.153625Z"
    }
   },
   "outputs": [],
   "source": [
    "plt.figure(figsize=(10,8))\n",
    "plt.bar(data=countries_with_shortest_Male.tail(10),x='Country Name',height=\"Male Height in Cm\",width=0.8,color=color_blue)\n",
    "plt.xlabel('top 10 Countries with Shortest Male')\n",
    "plt.xticks(rotation=45)\n",
    "plt.ylim(ymin=159,ymax=166)\n",
    "plt.ylabel('Country')\n",
    "plt.show()"
   ]
  },
  {
   "cell_type": "code",
   "execution_count": null,
   "metadata": {},
   "outputs": [],
   "source": []
  }
 ],
 "metadata": {
  "kernelspec": {
   "display_name": "Python 3 (ipykernel)",
   "language": "python",
   "name": "python3"
  },
  "language_info": {
   "codemirror_mode": {
    "name": "ipython",
    "version": 3
   },
   "file_extension": ".py",
   "mimetype": "text/x-python",
   "name": "python",
   "nbconvert_exporter": "python",
   "pygments_lexer": "ipython3",
   "version": "3.8.10"
  }
 },
 "nbformat": 4,
 "nbformat_minor": 4
}
